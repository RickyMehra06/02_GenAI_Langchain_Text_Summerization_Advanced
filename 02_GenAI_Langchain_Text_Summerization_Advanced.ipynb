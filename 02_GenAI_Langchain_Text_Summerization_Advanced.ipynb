{
 "cells": [
  {
   "cell_type": "markdown",
   "id": "911af715",
   "metadata": {},
   "source": [
    "## Generative AI with Langchain - Summarize an entire book (Advanced)\n",
    "\n",
    "\n",
    "* Book may have large numbers of tokens which may increase the overall cost of LLM model.\n",
    "\n",
    "* We will use some advance technique to reduce the cost of using LLM by clustering the embeddings\n",
    "\n",
    "* I am using Google GenAI Gemini Pro LLM using LangChain and the same task can be achieved using OpenAI model"
   ]
  },
  {
   "cell_type": "code",
   "execution_count": 1,
   "id": "f79d9380",
   "metadata": {},
   "outputs": [],
   "source": [
    "import warnings\n",
    "warnings.filterwarnings('ignore')\n",
    "\n",
    "import google.generativeai as genai\n",
    "from langchain_google_genai import GoogleGenerativeAIEmbeddings\n",
    "from langchain_google_genai import ChatGoogleGenerativeAI\n",
    "from langchain.prompts import PromptTemplate\n",
    "\n",
    "from langchain.document_loaders import PyPDFLoader\n",
    "from langchain.schema import Document\n",
    "\n",
    "import pinecone\n",
    "from langchain.vectorstores import Pinecone\n",
    "from langchain.text_splitter import RecursiveCharacterTextSplitter\n",
    "\n",
    "from langchain.chains.summarize import load_summarize_chain\n",
    "from sklearn.cluster import KMeans\n",
    "\n",
    "import getpass\n",
    "import pandas as pd\n",
    "import numpy as np\n",
    "import os, sys\n",
    "\n",
    "#from dotenv import load_dotenv\n",
    "#load_dotenv()\n",
    "\n",
    "#from langchain.chat_models import ChatOpenAI\n",
    "#from langchain.embeddings import OpenAIEmbeddings"
   ]
  },
  {
   "cell_type": "code",
   "execution_count": 2,
   "id": "c8e7e488",
   "metadata": {},
   "outputs": [
    {
     "name": "stdout",
     "output_type": "stream",
     "text": [
      "Enter your GenAI API key: ········\n"
     ]
    }
   ],
   "source": [
    "os.environ[\"GOOGLE_API_KEY\"] = getpass.getpass(prompt=\"Enter your GenAI API key: \")\n",
    "\n",
    "genai.configure(api_key=os.environ[\"GOOGLE_API_KEY\"])\n",
    "llm = genai.GenerativeModel('gemini-pro')"
   ]
  },
  {
   "cell_type": "code",
   "execution_count": 3,
   "id": "262e5567",
   "metadata": {},
   "outputs": [],
   "source": [
    "loader = PyPDFLoader(\"Sample_Datasets\\power-of-ur-subconscious-mind.pdf\")\n",
    "pages = loader.load()\n",
    "\n",
    "# Initial pages have only index and tables, so slicing the this as per the PDF\n",
    "pages = pages[15:170]\n",
    "\n",
    "# Combine the pages and replace the tabs with spaces\n",
    "text = \"\"\n",
    "\n",
    "for page in pages:\n",
    "    text += page.page_content\n",
    "    \n",
    "text = text.replace('\\t', ' ')"
   ]
  },
  {
   "cell_type": "code",
   "execution_count": 4,
   "id": "0acc895f",
   "metadata": {},
   "outputs": [
    {
     "name": "stdout",
     "output_type": "stream",
     "text": [
      "This book has total_tokens: 89733\n",
      " tokens in it\n"
     ]
    }
   ],
   "source": [
    "num_tokens = llm.count_tokens(text)\n",
    "\n",
    "print (f\"This book has {num_tokens} tokens in it\")"
   ]
  },
  {
   "cell_type": "markdown",
   "id": "68325f56",
   "metadata": {},
   "source": [
    "That's approx 90K tokens, even [GPT 32K](https://help.openai.com/en/articles/7127966-what-is-the-difference-between-the-gpt-4-models) wouldn't be able to handle that in one go. At [0.03 per 1K prompt tokens](https://help.openai.com/en/articles/7127956-how-much-does-gpt-4-cost), this would cost us $2.70 just for the prompt alone.\n",
    "\n",
    "So how do we do this without going through all the tokens? Pick random chunks? Pick equally spaced chunks?\n",
    "\n",
    "\n",
    "**Goal:** Chunk the book then get embeddings of the chunks. Pick a subset of chunks which represent a wholistic but diverse view of the book. Or another way, is there a way to pick the top 10 passages that describe the book the best?\n",
    "\n",
    "Once we have our chunks that represent the book then we can summarize those chunks and hopefully get a pretty good summary.\n",
    "\n",
    "**The Steps we are following here:**\n",
    "1. Load the book into a single text file\n",
    "2. Split the text into large chunks\n",
    "3. Embed the chunks to get vectors\n",
    "4. Cluster the vectors to see which are similar to each other and likely talk about the same parts of the book\n",
    "5. Pick embeddings that represent the cluster the most (method: closest to each cluster centroid)\n",
    "6. Summarize the documents that these embeddings represent\n",
    "\n",
    "Another way to phrase this process, \"Which ~10 documents from this book represent most of the meaning? I want to build a summary off those.\"\n",
    "\n",
    "Note: There will be a bit of information loss, but show me a summary of a whole book that doesn't have information loss ;)"
   ]
  },
  {
   "cell_type": "code",
   "execution_count": 8,
   "id": "3d1b78b1",
   "metadata": {},
   "outputs": [
    {
     "name": "stdout",
     "output_type": "stream",
     "text": [
      "Now our book has been splitted up into 50 documents\n"
     ]
    }
   ],
   "source": [
    "text_splitter = RecursiveCharacterTextSplitter(separators=[\"\\n\\n\", \"\\n\", \"\\t\"], \n",
    "                                               chunk_size=10000, \n",
    "                                               chunk_overlap=2100)\n",
    "\n",
    "docs = text_splitter.create_documents([text])\n",
    "print (f\"Now our book has been splitted up into {len(docs)} documents\")"
   ]
  },
  {
   "cell_type": "code",
   "execution_count": 9,
   "id": "9aeca777",
   "metadata": {},
   "outputs": [
    {
     "name": "stdout",
     "output_type": "stream",
     "text": [
      "document 01 has 9996 characters\n",
      "document 02 has 9948 characters\n",
      "document 03 has 9947 characters\n",
      "document 04 has 9932 characters\n",
      "document 05 has 9971 characters\n",
      "document 06 has 9987 characters\n",
      "document 07 has 9942 characters\n",
      "document 08 has 9991 characters\n",
      "document 09 has 9975 characters\n",
      "document 10 has 9958 characters\n",
      "document 11 has 9986 characters\n",
      "document 12 has 9978 characters\n",
      "document 13 has 9939 characters\n",
      "document 14 has 9997 characters\n",
      "document 15 has 9954 characters\n",
      "document 16 has 9997 characters\n",
      "document 17 has 9991 characters\n",
      "document 18 has 9993 characters\n",
      "document 19 has 9975 characters\n",
      "document 20 has 9995 characters\n",
      "document 21 has 9984 characters\n",
      "document 22 has 9982 characters\n",
      "document 23 has 9981 characters\n",
      "document 24 has 9979 characters\n",
      "document 25 has 9959 characters\n",
      "document 26 has 9978 characters\n",
      "document 27 has 9966 characters\n",
      "document 28 has 9954 characters\n",
      "document 29 has 9967 characters\n",
      "document 30 has 9974 characters\n",
      "document 31 has 9947 characters\n",
      "document 32 has 9988 characters\n",
      "document 33 has 9946 characters\n",
      "document 34 has 9961 characters\n",
      "document 35 has 9997 characters\n",
      "document 36 has 9990 characters\n",
      "document 37 has 9983 characters\n",
      "document 38 has 9964 characters\n",
      "document 39 has 9974 characters\n",
      "document 40 has 9960 characters\n",
      "document 41 has 9978 characters\n",
      "document 42 has 9996 characters\n",
      "document 43 has 9949 characters\n",
      "document 44 has 9980 characters\n",
      "document 45 has 9937 characters\n",
      "document 46 has 9969 characters\n",
      "document 47 has 9959 characters\n",
      "document 48 has 9925 characters\n",
      "document 49 has 9969 characters\n",
      "document 50 has 2453 characters\n"
     ]
    }
   ],
   "source": [
    "# Let' see how many characters each documents have\n",
    "\n",
    "for idx, doc in enumerate(docs):\n",
    "    print(f\"document {idx+1:02d} has {len(doc.page_content)} characters\")\n",
    "    "
   ]
  },
  {
   "cell_type": "code",
   "execution_count": 10,
   "id": "65a1bb81",
   "metadata": {},
   "outputs": [
    {
     "data": {
      "text/plain": [
       "GoogleGenerativeAIEmbeddings(model='models/embedding-001', task_type=None, google_api_key=None)"
      ]
     },
     "execution_count": 10,
     "metadata": {},
     "output_type": "execute_result"
    }
   ],
   "source": [
    "embeddings = GoogleGenerativeAIEmbeddings(model=\"models/embedding-001\")\n",
    "embeddings"
   ]
  },
  {
   "cell_type": "code",
   "execution_count": 11,
   "id": "64925bfd",
   "metadata": {},
   "outputs": [],
   "source": [
    "vectors = embeddings.embed_documents([x.page_content for x in docs])"
   ]
  },
  {
   "cell_type": "code",
   "execution_count": 12,
   "id": "e3c87009",
   "metadata": {},
   "outputs": [],
   "source": [
    "# Assuming 'embeddings' is a list or array of 768-dimensional embeddings\n",
    "# Choose the number of cluster however this can be adjusted based on the book's content.\n",
    "# Usually if we have 10 passages from a book we can tell what it's about\n",
    "num_clusters = 10\n",
    "\n",
    "# Perform K-means clustering\n",
    "kmeans = KMeans(n_clusters=num_clusters, random_state=42).fit(vectors)\n"
   ]
  },
  {
   "cell_type": "markdown",
   "id": "892b75a4",
   "metadata": {},
   "source": [
    "Our entire documents have been clustered into 10 different clusters.\n",
    "\n",
    "We can see which document belongs to which cluster using kmeans.labels_"
   ]
  },
  {
   "cell_type": "code",
   "execution_count": 13,
   "id": "ab6bdc4d",
   "metadata": {},
   "outputs": [
    {
     "data": {
      "text/plain": [
       "array([7, 7, 7, 0, 0, 7, 5, 3, 3, 3, 8, 8, 8, 8, 7, 7, 3, 3, 3, 7, 7, 9,\n",
       "       9, 9, 9, 9, 7, 6, 5, 5, 5, 1, 1, 1, 9, 2, 2, 2, 2, 2, 2, 6, 6, 6,\n",
       "       6, 6, 4, 4, 4, 4])"
      ]
     },
     "execution_count": 13,
     "metadata": {},
     "output_type": "execute_result"
    }
   ],
   "source": [
    "kmeans.labels_"
   ]
  },
  {
   "cell_type": "code",
   "execution_count": 14,
   "id": "f9faa0c8",
   "metadata": {},
   "outputs": [
    {
     "data": {
      "text/plain": [
       "50"
      ]
     },
     "execution_count": 14,
     "metadata": {},
     "output_type": "execute_result"
    }
   ],
   "source": [
    "len(kmeans.labels_)"
   ]
  },
  {
   "cell_type": "markdown",
   "id": "2607e027",
   "metadata": {},
   "source": [
    "We also need to do dimensionality reduction to reduce the vectors from 768 dimensions to 2"
   ]
  },
  {
   "cell_type": "code",
   "execution_count": 15,
   "id": "cea89c26",
   "metadata": {},
   "outputs": [
    {
     "data": {
      "image/png": "[encoded data removed]",
      "text/plain": [
       "<Figure size 600x400 with 1 Axes>"
      ]
     },
     "metadata": {},
     "output_type": "display_data"
    }
   ],
   "source": [
    "from sklearn.manifold import TSNE\n",
    "import matplotlib.pyplot as plt\n",
    "\n",
    "# Performing t-SNE and reduce to 2 dimensions\n",
    "tsne = TSNE(n_components=2, random_state=42)\n",
    "reduced_data_tsne = tsne.fit_transform(np.array(vectors))\n",
    "\n",
    "# Plot the reduced data\n",
    "plt.figure(figsize=(6,4))\n",
    "plt.scatter(reduced_data_tsne[:, 0], reduced_data_tsne[:, 1], c=kmeans.labels_)\n",
    "plt.xlabel('Dimension 1')\n",
    "plt.ylabel('Dimension 2')\n",
    "plt.title('tSNE - Book Embeddings Clustered')\n",
    "plt.show()"
   ]
  },
  {
   "cell_type": "markdown",
   "id": "e4af60a9",
   "metadata": {},
   "source": [
    "Now we need to get the vectors which are closest to the cluster centroids (the center).\n",
    "\n",
    "We want to perform embeddings only for the documents which are closest to center of each cluster.\n",
    "\n",
    "The closest vectors will convey the summary nearer to centroid "
   ]
  },
  {
   "cell_type": "code",
   "execution_count": 16,
   "id": "2841e42d",
   "metadata": {},
   "outputs": [
    {
     "data": {
      "text/plain": [
       "[0, 3, 8, 11, 24, 28, 32, 38, 43, 49]"
      ]
     },
     "execution_count": 16,
     "metadata": {},
     "output_type": "execute_result"
    }
   ],
   "source": [
    "# Find the closest embeddings to the centroids\n",
    "\n",
    "# Create an empty list that will hold your closest points\n",
    "closest_indices = []\n",
    "\n",
    "# Loop through the number of clusters\n",
    "for i in range(num_clusters):\n",
    "    \n",
    "    # Calculates the list of Euclidean distances between each document embedding and the centroid of the current cluster\n",
    "    distances = np.linalg.norm(vectors - kmeans.cluster_centers_[i], axis=1)\n",
    "    \n",
    "    # Finds the index of the document with the smallest distance to the centroid, \n",
    "    # meaning it's the closest document to the center of that cluster.\n",
    "    closest_index = np.argmin(distances)\n",
    "\n",
    "    closest_indices.append(closest_index)\n",
    "    \n",
    "selected_indices = sorted(closest_indices)\n",
    "selected_indices"
   ]
  },
  {
   "cell_type": "markdown",
   "id": "8a5f6937",
   "metadata": {},
   "source": [
    "The documents numbers given above belongs to respective clusters\n",
    "\n",
    "means doc#0 is closest similar to centroid of cluster 0 and may represents all documents in the clusters\n",
    "\n",
    "and doc#3 is closest similar to centroid of cluster 1 and may represents all documents in the clusters so on..\n"
   ]
  },
  {
   "cell_type": "code",
   "execution_count": 17,
   "id": "f90a9e85",
   "metadata": {},
   "outputs": [],
   "source": [
    "selected_docs = [docs[doc] for doc in selected_indices]"
   ]
  },
  {
   "cell_type": "code",
   "execution_count": 18,
   "id": "f22220e7",
   "metadata": {},
   "outputs": [],
   "source": [
    "from langchain_google_genai import ChatGoogleGenerativeAI\n",
    "\n",
    "model=ChatGoogleGenerativeAI(model=\"gemini-pro\",\n",
    "                             temperature=0,\n",
    "                             max_tokens=1000,\n",
    "                             google_api_key=os.environ[\"GOOGLE_API_KEY\"]\n",
    "                            )"
   ]
  },
  {
   "cell_type": "code",
   "execution_count": 29,
   "id": "a2ce39eb",
   "metadata": {},
   "outputs": [],
   "source": [
    "from langchain.prompts import PromptTemplate\n",
    "\n",
    "map_prompt = \"\"\"\n",
    "You will be given a single passage of a book. This section will be enclosed in triple backticks (```)\n",
    "Your goal is to give a summary of this section to retain the keywords and context of the passage.\n",
    "Your response should be at least three paragraphs of 300 tokens each and fully encompass what was said in the passage.\n",
    "\n",
    "```{text}```\n",
    "FULL SUMMARY:\n",
    "\"\"\"\n",
    "map_prompt_template = PromptTemplate(template=map_prompt, \n",
    "                                     input_variables=[\"text\"])\n"
   ]
  },
  {
   "cell_type": "code",
   "execution_count": 30,
   "id": "700d409f",
   "metadata": {},
   "outputs": [],
   "source": [
    "map_chain = load_summarize_chain(llm=model,\n",
    "                                 chain_type=\"stuff\",\n",
    "                                 prompt=map_prompt_template)"
   ]
  },
  {
   "cell_type": "code",
   "execution_count": 33,
   "id": "6d3d262b",
   "metadata": {},
   "outputs": [
    {
     "name": "stdout",
     "output_type": "stream",
     "text": [
      "Summary #0 (chunk #0) - Preview: The passage delves into the power of the subconscious mind and its profound impact on our lives. It emphasizes the importance of cultivating a positive mindset and harnessing the infinite intelligence within us to achieve our goals and desires. The a \n",
      "\n",
      "Summary #1 (chunk #3) - Preview: The passage delves into the distinction between the conscious and subconscious minds, emphasizing the power of suggestion and its impact on our lives. The conscious mind, also known as the objective mind, relies on the five senses to perceive the ext \n",
      "\n",
      "Summary #2 (chunk #8) - Preview: The passage delves into the realm of faith healing and the power of the subconscious mind in promoting miraculous recoveries. It begins with the remarkable case of Madame Bire, a blind woman who regained her sight at the shrine of Lourdes despite hav \n",
      "\n",
      "Summary #3 (chunk #11) - Preview: The passage delves into the concept of mental healing and the power of the subconscious mind in facilitating healing processes. It emphasizes that the healing power resides within each individual's subconscious mind and that a change in mental attitu \n",
      "\n",
      "Summary #4 (chunk #24) - Preview: The passage emphasizes the significance of recognizing the powers of the subconscious mind and the creative potential of thoughts in achieving wealth, happiness, and success. It highlights the importance of having faith in the source of supply and un \n",
      "\n",
      "Summary #5 (chunk #28) - Preview: The passage delves into the extraordinary powers of the subconscious mind and its role in guiding individuals toward success and problem-solving. It begins with a captivating personal anecdote of a man who escaped from a Russian coal mine during Worl \n",
      "\n",
      "Summary #6 (chunk #32) - Preview: The passage delves into the realm of attracting ideal partners and resolving marital issues through the power of thought and subconscious programming. It emphasizes the importance of having a clear mental image of the desired qualities in a partner a \n",
      "\n",
      "Summary #7 (chunk #38) - Preview: The passage emphasizes the significance of maintaining positive thoughts and actions in interpersonal relationships. It highlights the idea that our thoughts and feelings towards others have a direct impact on our own experiences and well-being. The  \n",
      "\n"
     ]
    },
    {
     "name": "stderr",
     "output_type": "stream",
     "text": [
      "Retrying langchain_google_genai.chat_models._chat_with_retry.<locals>._chat_with_retry in 2.0 seconds as it raised InternalServerError: 500 An internal error has occurred. Please retry or report in https://developers.generativeai.google/guide/troubleshooting.\n"
     ]
    },
    {
     "name": "stdout",
     "output_type": "stream",
     "text": [
      "Summary #8 (chunk #43) - Preview: The root cause of alcoholism is negative and destructive thinking, leading to feelings of inferiority, inadequacy, defeat, frustration, and inner hostility. The solution lies in transforming these negative thoughts into positive ones through a three- \n",
      "\n",
      "Summary #9 (chunk #49) - Preview: The passage emphasizes the significance of maintaining a youthful mindset and spirit as we age. It begins by acknowledging the intangible yet undeniable existence of the mind, spirit, life, and virtues like goodness, truth, and beauty. The author sug \n",
      "\n"
     ]
    }
   ],
   "source": [
    "# Make an empty list to hold your summaries\n",
    "summary_list = []\n",
    "\n",
    "# Loop through a range of the lenght of your selected docs\n",
    "for idx, doc in enumerate(selected_docs):\n",
    "    \n",
    "    # Go get a summary of the chunk\n",
    "    chunk_summary = map_chain.run([doc])\n",
    "    \n",
    "    # Append that summary to your list\n",
    "    summary_list.append(chunk_summary)\n",
    "    \n",
    "    print (f\"Summary #{idx} (chunk #{selected_indices[idx]}) - Preview: {chunk_summary[:250]} \\n\")"
   ]
  },
  {
   "cell_type": "markdown",
   "id": "2f53997f",
   "metadata": {},
   "source": [
    "We have our list of summaries, let's get a summary of all the summaries"
   ]
  },
  {
   "cell_type": "code",
   "execution_count": 34,
   "id": "93e9bb54",
   "metadata": {},
   "outputs": [
    {
     "name": "stdout",
     "output_type": "stream",
     "text": [
      "The total summary has total_tokens: 2326\n",
      " tokens\n"
     ]
    }
   ],
   "source": [
    "summaries = \"\\n\".join(summary_list)\n",
    "\n",
    "# Convert it back to a document\n",
    "summaries = Document(page_content=summaries)\n",
    "\n",
    "print (f\"The total summary has {llm.count_tokens(summaries.page_content)} tokens\")"
   ]
  },
  {
   "cell_type": "code",
   "execution_count": 35,
   "id": "8f21bc58",
   "metadata": {},
   "outputs": [],
   "source": [
    "from langchain_google_genai import ChatGoogleGenerativeAI\n",
    "\n",
    "summary_model=ChatGoogleGenerativeAI(model=\"gemini-pro\",\n",
    "                                     temperature=0,\n",
    "                                     max_tokens=2000,\n",
    "                                     google_api_key=os.environ[\"GOOGLE_API_KEY\"]\n",
    "                                    )"
   ]
  },
  {
   "cell_type": "code",
   "execution_count": 40,
   "id": "a9d4097b",
   "metadata": {},
   "outputs": [],
   "source": [
    "combine_prompt = \"\"\"\n",
    "You will be given a series of summaries from a book. The summaries will be enclosed in triple backticks (```)\n",
    "Your goal is to give a verbose summary in at least 1000 tokens of what happened in the story.\n",
    "The reader should be able to grasp what happened in the book.\n",
    "\n",
    "```{text}```\n",
    "VERBOSE SUMMARY:\n",
    "\"\"\"\n",
    "combine_prompt_template = PromptTemplate(template=combine_prompt, \n",
    "                                         input_variables=[\"text\"])"
   ]
  },
  {
   "cell_type": "code",
   "execution_count": 41,
   "id": "e83fd687",
   "metadata": {},
   "outputs": [],
   "source": [
    "reduce_chain=load_summarize_chain(llm=summary_model,\n",
    "                                  chain_type=\"stuff\",\n",
    "                                  prompt=combine_prompt_template,\n",
    "    #                             verbose=True # Set this to true if you want to see the inner workings\n",
    "                                  )"
   ]
  },
  {
   "cell_type": "code",
   "execution_count": 42,
   "id": "0d2e295a",
   "metadata": {},
   "outputs": [
    {
     "name": "stdout",
     "output_type": "stream",
     "text": [
      "In the realm of personal development and self-improvement, the power of the subconscious mind takes center stage. This profound force within us holds the key to unlocking our true potential, shaping our experiences, and manifesting our desires. The journey begins with cultivating a positive mindset, replacing limiting beliefs with empowering ones, and aligning our thoughts with the eternal truths of life.\n",
      "\n",
      "The subconscious mind, operating beneath the surface of our conscious awareness, is a vast reservoir of untapped potential. It accepts as true whatever the conscious mind believes, making it crucial to select thoughts and ideas that are beneficial and uplifting. Through the power of suggestion, we can reprogram our subconscious minds, overcoming fears, and creating a more positive and fulfilling reality.\n",
      "\n",
      "Faith and belief play a pivotal role in harnessing the power of the subconscious mind. By planting the idea of healing or success in our minds and nurturing it with expectancy, we can manifest it in reality. The subconscious mind responds to our thoughts and emotions, promoting healing or hindering it.\n",
      "\n",
      "The subconscious mind also guides us toward success and problem-solving. By tapping into its latent powers, we can find creative solutions, receive guidance, and achieve our goals. This involves quieting the mind, focusing on the problem at hand, and trusting the subconscious to provide answers and insights.\n",
      "\n",
      "In the realm of relationships, our thoughts and feelings towards others have a direct impact on our own experiences and well-being. Adopting a mindset of love, understanding, and compassion leads to harmonious and fulfilling relationships. Forgiveness, both towards oneself and others, is essential for releasing negative emotions and opening ourselves up to positive experiences.\n",
      "\n",
      "Negative thinking and destructive emotions are at the root of alcoholism and fear. To overcome these challenges, one must transform negative thoughts into positive ones through a process of quieting the mind, repeating positive affirmations, and visualizing desired outcomes.\n",
      "\n",
      "As we age, maintaining a youthful mindset and spirit is crucial for continued growth and fulfillment. True youthfulness lies in one's thoughts, attitude, and outlook on life, not in physical appearance or chronological age. Embracing the wisdom and experience gained through the years, while pursuing new interests and activities, keeps us mentally and spiritually vibrant.\n",
      "\n",
      "The journey of self-discovery and personal transformation is an ongoing one, requiring dedication, perseverance, and an unwavering belief in our own potential. By harnessing the power of the subconscious mind, cultivating a positive mindset, and aligning our thoughts and actions with our deepest desires, we can unlock the door to a life of abundance, happiness, and fulfillment.\n"
     ]
    }
   ],
   "source": [
    "output = reduce_chain.run([summaries])\n",
    "print(output)"
   ]
  },
  {
   "cell_type": "code",
   "execution_count": 43,
   "id": "89121875",
   "metadata": {},
   "outputs": [
    {
     "name": "stdout",
     "output_type": "stream",
     "text": [
      "The summary of the book has 425 words and 2849 characters\n"
     ]
    }
   ],
   "source": [
    "no_of_words = len(output.split())\n",
    "no_of_characters = len(output)\n",
    "\n",
    "print(f\"The summary of the book has {no_of_words} words and {no_of_characters} characters\")"
   ]
  },
  {
   "cell_type": "code",
   "execution_count": 60,
   "id": "f232c550",
   "metadata": {},
   "outputs": [],
   "source": [
    "text_data=Document(page_content=output,\n",
    "                   metadata=dict(ISBN=\"9781234561223\",\n",
    "                                 Title = \"The power of your Sub-consicious mind\",\n",
    "                                 Author=\"Dr Joseph Murphy\",\n",
    "                                 ))"
   ]
  },
  {
   "cell_type": "code",
   "execution_count": 61,
   "id": "19605212",
   "metadata": {},
   "outputs": [],
   "source": [
    "from langchain.vectorstores import FAISS\n",
    "\n",
    "db = FAISS.from_documents(documents = [text_data],\n",
    "                          embedding = embeddings\n",
    "                         )                  \n",
    "                                               "
   ]
  },
  {
   "cell_type": "code",
   "execution_count": 62,
   "id": "56224b7e",
   "metadata": {},
   "outputs": [
    {
     "name": "stdout",
     "output_type": "stream",
     "text": [
      "{'ISBN': '9781234561223', 'Title': 'The power of your Sub-consicious mind', 'Author': 'Dr Joseph Murphy'}\n"
     ]
    }
   ],
   "source": [
    "query = \"Highlights the points author has emphasize ?\"\n",
    "\n",
    "docs = db.similarity_search(query)\n",
    "print(docs[0].metadata)"
   ]
  },
  {
   "cell_type": "markdown",
   "id": "5116fe19",
   "metadata": {},
   "source": [
    "### Let's try with Pinecone Client"
   ]
  },
  {
   "cell_type": "code",
   "execution_count": 63,
   "id": "a4e4c994",
   "metadata": {},
   "outputs": [
    {
     "name": "stdout",
     "output_type": "stream",
     "text": [
      "Enter your Pinecone API key: ········\n"
     ]
    }
   ],
   "source": [
    "os.environ[\"PINECONE_API_KEY\"] = getpass.getpass(prompt=\"Enter your Pinecone API key: \")"
   ]
  },
  {
   "cell_type": "code",
   "execution_count": 70,
   "id": "e1914d0b",
   "metadata": {},
   "outputs": [
    {
     "data": {
      "text/plain": [
       "{'dimension': 768,\n",
       " 'index_fullness': 1e-05,\n",
       " 'namespaces': {'': {'vector_count': 1}},\n",
       " 'total_vector_count': 1}"
      ]
     },
     "execution_count": 70,
     "metadata": {},
     "output_type": "execute_result"
    }
   ],
   "source": [
    "pinecone.init(\n",
    "    api_key = os.getenv(\"PINECONE_API_KEY\"),\n",
    "    environment = \"gcp-starter\"\n",
    ")\n",
    "\n",
    "index_name = \"gemini-pro-index\"\n",
    "\n",
    "if index_name not in pinecone.list_indexes():\n",
    "    pinecone.create_index(index_name, \n",
    "                          dimension = 768, \n",
    "                          metric='cosine')\n",
    "    print(f\"Pinecone index: {index_name} is created\")\n",
    "    \n",
    "index = pinecone.Index(index_name)\n",
    "\n",
    "index.describe_index_stats()"
   ]
  },
  {
   "cell_type": "code",
   "execution_count": 71,
   "id": "da1bd032",
   "metadata": {},
   "outputs": [],
   "source": [
    "pinecone_db = Pinecone.from_documents([text_data], embeddings, index_name=index_name)"
   ]
  },
  {
   "cell_type": "code",
   "execution_count": 72,
   "id": "729c53ab",
   "metadata": {},
   "outputs": [
    {
     "data": {
      "text/plain": [
       "{'dimension': 768,\n",
       " 'index_fullness': 1e-05,\n",
       " 'namespaces': {'': {'vector_count': 1}},\n",
       " 'total_vector_count': 1}"
      ]
     },
     "execution_count": 72,
     "metadata": {},
     "output_type": "execute_result"
    }
   ],
   "source": [
    "index.describe_index_stats()"
   ]
  },
  {
   "cell_type": "code",
   "execution_count": 73,
   "id": "2a20f8f1",
   "metadata": {},
   "outputs": [],
   "source": [
    "# Load the vectorstore from Pinecone Client\n",
    "\n",
    "pinecone_vectorstore = Pinecone.from_existing_index(index_name, embeddings)"
   ]
  },
  {
   "cell_type": "code",
   "execution_count": 74,
   "id": "2916a89d",
   "metadata": {},
   "outputs": [
    {
     "data": {
      "text/plain": [
       "{'Author': 'Dr Joseph Murphy',\n",
       " 'ISBN': '9781234561223',\n",
       " 'Title': 'The power of your Sub-consicious mind'}"
      ]
     },
     "execution_count": 74,
     "metadata": {},
     "output_type": "execute_result"
    }
   ],
   "source": [
    "query = \"Suggest a book on health and creative mind strategy\"\n",
    "\n",
    "response = pinecone_vectorstore.similarity_search(query)\n",
    "response[0].metadata"
   ]
  },
  {
   "cell_type": "code",
   "execution_count": null,
   "id": "fcd8072f",
   "metadata": {},
   "outputs": [],
   "source": []
  },
  {
   "cell_type": "code",
   "execution_count": null,
   "id": "08699246",
   "metadata": {},
   "outputs": [],
   "source": []
  }
 ],
 "metadata": {
  "kernelspec": {
   "display_name": "Python 3.9 (tensorflow)",
   "language": "python",
   "name": "tensorflow"
  },
  "language_info": {
   "codemirror_mode": {
    "name": "ipython",
    "version": 3
   },
   "file_extension": ".py",
   "mimetype": "text/x-python",
   "name": "python",
   "nbconvert_exporter": "python",
   "pygments_lexer": "ipython3",
   "version": "3.9.18"
  }
 },
 "nbformat": 4,
 "nbformat_minor": 5
}
